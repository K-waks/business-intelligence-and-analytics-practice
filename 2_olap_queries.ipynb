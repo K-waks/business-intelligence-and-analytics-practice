{
    "metadata": {
        "kernelspec": {
            "name": "SQL",
            "display_name": "SQL",
            "language": "sql"
        },
        "language_info": {
            "name": "sql",
            "version": ""
        }
    },
    "nbformat_minor": 2,
    "nbformat": 4,
    "cells": [
        {
            "cell_type": "markdown",
            "source": [
                "# <center>CSC 328 Practical Question 2</center>\n",
                "## <center>Wakhisi Kevin Wasike</center>\n",
                "## <center>P15/1928/2020</center>"
            ],
            "metadata": {
                "language": "",
                "azdata_cell_guid": "a69cc282-c668-4345-a435-93dd383de7b0"
            },
            "attachments": {}
        },
        {
            "cell_type": "code",
            "source": [
                "USE online_retail_star;"
            ],
            "metadata": {
                "azdata_cell_guid": "f18f2e58-0c39-4830-89c8-38c78db883d6",
                "language": "sql"
            },
            "outputs": [
                {
                    "output_type": "display_data",
                    "data": {
                        "text/html": "Commands completed successfully"
                    },
                    "metadata": {}
                },
                {
                    "output_type": "display_data",
                    "data": {
                        "text/html": "Total execution time: 00:00:00.003"
                    },
                    "metadata": {}
                }
            ],
            "execution_count": 4
        },
        {
            "cell_type": "markdown",
            "source": [
                "# Slicing\r\n",
                "- What are the sales transactions specifically from the United Kingdom?\r\n",
                ""
            ],
            "metadata": {
                "language": "sql",
                "azdata_cell_guid": "c53bfef5-fd02-460e-b13c-362f42b1b180"
            },
            "attachments": {}
        },
        {
            "cell_type": "markdown",
            "source": [
                "<span style=\"color: #0000ff;\">SELECT</span> <span style=\"color: #000000;\">*</span> <span style=\"color: #0000ff;\">FROM</span> fact\\_sales <span style=\"color: #0000ff;\">WHERE</span> country <span style=\"color: #000000;\">=</span> <span style=\"color: #a31515;\">'United Kingdom'</span>;"
            ],
            "metadata": {
                "language": "sql",
                "azdata_cell_guid": "1523efe2-015f-4a13-ba28-3fb927e2eb28"
            },
            "attachments": {}
        },
        {
            "cell_type": "markdown",
            "source": [
                "# Dicing\r\n",
                "- What are the sales transactions from the United Kingdom in the year 2010?"
            ],
            "metadata": {
                "language": "sql",
                "azdata_cell_guid": "af2faec5-f869-4a09-8c13-701b038a4df9"
            },
            "attachments": {}
        },
        {
            "cell_type": "code",
            "source": [
                "SELECT *\r\n",
                "FROM fact_sales\r\n",
                "WHERE\r\n",
                "    country = 'United Kingdom'\r\n",
                "    AND YEAR(invoice_date) = 2010\r\n",
                "LIMIT 20;"
            ],
            "metadata": {
                "language": "sql",
                "azdata_cell_guid": "ed0c7bd1-a400-4c3c-bbff-44385edd8033"
            },
            "outputs": [
                {
                    "output_type": "display_data",
                    "data": {
                        "text/html": "(20 row(s) affected)"
                    },
                    "metadata": {}
                },
                {
                    "output_type": "display_data",
                    "data": {
                        "text/html": "Total execution time: 00:00:01.013"
                    },
                    "metadata": {}
                },
                {
                    "output_type": "execute_result",
                    "metadata": {},
                    "execution_count": 13,
                    "data": {
                        "application/vnd.dataresource+json": {
                            "schema": {
                                "fields": [
                                    {
                                        "name": "fact_id"
                                    },
                                    {
                                        "name": "stock_code"
                                    },
                                    {
                                        "name": "customer_id"
                                    },
                                    {
                                        "name": "invoice_date"
                                    },
                                    {
                                        "name": "country"
                                    },
                                    {
                                        "name": "total_price"
                                    }
                                ]
                            },
                            "data": [
                                {
                                    "0": "1",
                                    "1": "85123A",
                                    "2": "NULL",
                                    "3": "2010-01-12 08:26:00",
                                    "4": "United Kingdom",
                                    "5": "15.30"
                                },
                                {
                                    "0": "2",
                                    "1": "85123A",
                                    "2": "NULL",
                                    "3": "2010-01-12 09:02:00",
                                    "4": "United Kingdom",
                                    "5": "15.30"
                                },
                                {
                                    "0": "3",
                                    "1": "85123A",
                                    "2": "NULL",
                                    "3": "2010-01-12 09:32:00",
                                    "4": "United Kingdom",
                                    "5": "15.30"
                                },
                                {
                                    "0": "4",
                                    "1": "85123A",
                                    "2": "NULL",
                                    "3": "2010-01-12 10:19:00",
                                    "4": "United Kingdom",
                                    "5": "163.20"
                                },
                                {
                                    "0": "5",
                                    "1": "85123A",
                                    "2": "NULL",
                                    "3": "2010-01-12 10:39:00",
                                    "4": "United Kingdom",
                                    "5": "81.60"
                                },
                                {
                                    "0": "6",
                                    "1": "85123A",
                                    "2": "NULL",
                                    "3": "2010-01-12 10:51:00",
                                    "4": "United Kingdom",
                                    "5": "15.30"
                                },
                                {
                                    "0": "7",
                                    "1": "85123A",
                                    "2": "NULL",
                                    "3": "2010-01-12 11:21:00",
                                    "4": "United Kingdom",
                                    "5": "11.80"
                                },
                                {
                                    "0": "8",
                                    "1": "85123A",
                                    "2": "NULL",
                                    "3": "2010-01-12 11:33:00",
                                    "4": "United Kingdom",
                                    "5": "20.40"
                                },
                                {
                                    "0": "9",
                                    "1": "85123A",
                                    "2": "NULL",
                                    "3": "2010-01-12 12:36:00",
                                    "4": "United Kingdom",
                                    "5": "17.70"
                                },
                                {
                                    "0": "10",
                                    "1": "85123A",
                                    "2": "NULL",
                                    "3": "2010-01-12 12:43:00",
                                    "4": "United Kingdom",
                                    "5": "8.85"
                                },
                                {
                                    "0": "11",
                                    "1": "85123A",
                                    "2": "NULL",
                                    "3": "2010-01-12 14:11:00",
                                    "4": "United Kingdom",
                                    "5": "94.40"
                                },
                                {
                                    "0": "12",
                                    "1": "85123A",
                                    "2": "NULL",
                                    "3": "2010-01-12 16:01:00",
                                    "4": "United Kingdom",
                                    "5": "326.40"
                                },
                                {
                                    "0": "13",
                                    "1": "85123A",
                                    "2": "NULL",
                                    "3": "2010-01-12 16:11:00",
                                    "4": "United Kingdom",
                                    "5": "326.40"
                                },
                                {
                                    "0": "14",
                                    "1": "85123A",
                                    "2": "NULL",
                                    "3": "2010-01-12 16:52:00",
                                    "4": "United Kingdom",
                                    "5": "17.70"
                                },
                                {
                                    "0": "15",
                                    "1": "85123A",
                                    "2": "NULL",
                                    "3": "2010-01-12 17:22:00",
                                    "4": "United Kingdom",
                                    "5": "17.70"
                                },
                                {
                                    "0": "16",
                                    "1": "85123A",
                                    "2": "NULL",
                                    "3": "2010-02-12 08:32:00",
                                    "4": "United Kingdom",
                                    "5": "15.30"
                                },
                                {
                                    "0": "17",
                                    "1": "85123A",
                                    "2": "NULL",
                                    "3": "2010-02-12 08:34:00",
                                    "4": "United Kingdom",
                                    "5": "15.30"
                                },
                                {
                                    "0": "18",
                                    "1": "85123A",
                                    "2": "NULL",
                                    "3": "2010-02-12 09:29:00",
                                    "4": "United Kingdom",
                                    "5": "17.70"
                                },
                                {
                                    "0": "19",
                                    "1": "85123A",
                                    "2": "NULL",
                                    "3": "2010-02-12 09:41:00",
                                    "4": "United Kingdom",
                                    "5": "15.30"
                                },
                                {
                                    "0": "20",
                                    "1": "85123A",
                                    "2": "NULL",
                                    "3": "2010-02-12 09:44:00",
                                    "4": "United Kingdom",
                                    "5": "15.30"
                                }
                            ]
                        },
                        "text/html": [
                            "<table>",
                            "<tr><th>fact_id</th><th>stock_code</th><th>customer_id</th><th>invoice_date</th><th>country</th><th>total_price</th></tr>",
                            "<tr><td>1</td><td>85123A</td><td>NULL</td><td>2010-01-12 08:26:00</td><td>United Kingdom</td><td>15.30</td></tr>",
                            "<tr><td>2</td><td>85123A</td><td>NULL</td><td>2010-01-12 09:02:00</td><td>United Kingdom</td><td>15.30</td></tr>",
                            "<tr><td>3</td><td>85123A</td><td>NULL</td><td>2010-01-12 09:32:00</td><td>United Kingdom</td><td>15.30</td></tr>",
                            "<tr><td>4</td><td>85123A</td><td>NULL</td><td>2010-01-12 10:19:00</td><td>United Kingdom</td><td>163.20</td></tr>",
                            "<tr><td>5</td><td>85123A</td><td>NULL</td><td>2010-01-12 10:39:00</td><td>United Kingdom</td><td>81.60</td></tr>",
                            "<tr><td>6</td><td>85123A</td><td>NULL</td><td>2010-01-12 10:51:00</td><td>United Kingdom</td><td>15.30</td></tr>",
                            "<tr><td>7</td><td>85123A</td><td>NULL</td><td>2010-01-12 11:21:00</td><td>United Kingdom</td><td>11.80</td></tr>",
                            "<tr><td>8</td><td>85123A</td><td>NULL</td><td>2010-01-12 11:33:00</td><td>United Kingdom</td><td>20.40</td></tr>",
                            "<tr><td>9</td><td>85123A</td><td>NULL</td><td>2010-01-12 12:36:00</td><td>United Kingdom</td><td>17.70</td></tr>",
                            "<tr><td>10</td><td>85123A</td><td>NULL</td><td>2010-01-12 12:43:00</td><td>United Kingdom</td><td>8.85</td></tr>",
                            "<tr><td>11</td><td>85123A</td><td>NULL</td><td>2010-01-12 14:11:00</td><td>United Kingdom</td><td>94.40</td></tr>",
                            "<tr><td>12</td><td>85123A</td><td>NULL</td><td>2010-01-12 16:01:00</td><td>United Kingdom</td><td>326.40</td></tr>",
                            "<tr><td>13</td><td>85123A</td><td>NULL</td><td>2010-01-12 16:11:00</td><td>United Kingdom</td><td>326.40</td></tr>",
                            "<tr><td>14</td><td>85123A</td><td>NULL</td><td>2010-01-12 16:52:00</td><td>United Kingdom</td><td>17.70</td></tr>",
                            "<tr><td>15</td><td>85123A</td><td>NULL</td><td>2010-01-12 17:22:00</td><td>United Kingdom</td><td>17.70</td></tr>",
                            "<tr><td>16</td><td>85123A</td><td>NULL</td><td>2010-02-12 08:32:00</td><td>United Kingdom</td><td>15.30</td></tr>",
                            "<tr><td>17</td><td>85123A</td><td>NULL</td><td>2010-02-12 08:34:00</td><td>United Kingdom</td><td>15.30</td></tr>",
                            "<tr><td>18</td><td>85123A</td><td>NULL</td><td>2010-02-12 09:29:00</td><td>United Kingdom</td><td>17.70</td></tr>",
                            "<tr><td>19</td><td>85123A</td><td>NULL</td><td>2010-02-12 09:41:00</td><td>United Kingdom</td><td>15.30</td></tr>",
                            "<tr><td>20</td><td>85123A</td><td>NULL</td><td>2010-02-12 09:44:00</td><td>United Kingdom</td><td>15.30</td></tr>",
                            "</table>"
                        ]
                    }
                }
            ],
            "execution_count": 13
        },
        {
            "cell_type": "markdown",
            "source": [
                "# Pivoting\r\n",
                "- What is the total sales amount for each year?"
            ],
            "metadata": {
                "language": "sql",
                "azdata_cell_guid": "2aae636f-faba-4876-bf50-6db2636b9b03"
            },
            "attachments": {}
        },
        {
            "cell_type": "code",
            "source": [
                "SELECT\r\n",
                "    YEAR(invoice_date) AS year,\r\n",
                "    SUM(total_price) AS total_sales\r\n",
                "FROM fact_sales\r\n",
                "GROUP BY YEAR(invoice_date);"
            ],
            "metadata": {
                "language": "sql",
                "azdata_cell_guid": "e1f9a6e5-9c68-4b26-b650-c33d6563e53b"
            },
            "outputs": [
                {
                    "output_type": "display_data",
                    "data": {
                        "text/html": "(2 row(s) affected)"
                    },
                    "metadata": {}
                },
                {
                    "output_type": "display_data",
                    "data": {
                        "text/html": "Total execution time: 00:00:01.455"
                    },
                    "metadata": {}
                },
                {
                    "output_type": "execute_result",
                    "metadata": {},
                    "execution_count": 6,
                    "data": {
                        "application/vnd.dataresource+json": {
                            "schema": {
                                "fields": [
                                    {
                                        "name": "year"
                                    },
                                    {
                                        "name": "total_sales"
                                    }
                                ]
                            },
                            "data": [
                                {
                                    "0": "2010",
                                    "1": "551559.42"
                                },
                                {
                                    "0": "2011",
                                    "1": "7690218.23"
                                }
                            ]
                        },
                        "text/html": [
                            "<table>",
                            "<tr><th>year</th><th>total_sales</th></tr>",
                            "<tr><td>2010</td><td>551559.42</td></tr>",
                            "<tr><td>2011</td><td>7690218.23</td></tr>",
                            "</table>"
                        ]
                    }
                }
            ],
            "execution_count": 6
        },
        {
            "cell_type": "markdown",
            "source": [
                "# Drill down\r\n",
                "- What is the total sales amount for each year and month?"
            ],
            "metadata": {
                "language": "sql",
                "azdata_cell_guid": "9629df40-0e88-49a1-b9f6-0eee3819d0e5"
            },
            "attachments": {}
        },
        {
            "cell_type": "code",
            "source": [
                "SELECT\r\n",
                "    YEAR(invoice_date) AS year,\r\n",
                "    MONTH(invoice_date) AS month,\r\n",
                "    SUM(total_price) AS total_sales\r\n",
                "FROM fact_sales\r\n",
                "GROUP BY\r\n",
                "    YEAR(invoice_date),\r\n",
                "    MONTH(invoice_date);"
            ],
            "metadata": {
                "language": "sql",
                "azdata_cell_guid": "1ed4908f-901b-4b00-80e1-ae790af59acf"
            },
            "outputs": [
                {
                    "output_type": "display_data",
                    "data": {
                        "text/html": "(22 row(s) affected)"
                    },
                    "metadata": {}
                },
                {
                    "output_type": "display_data",
                    "data": {
                        "text/html": "Total execution time: 00:00:01.310"
                    },
                    "metadata": {}
                },
                {
                    "output_type": "execute_result",
                    "metadata": {},
                    "execution_count": 7,
                    "data": {
                        "application/vnd.dataresource+json": {
                            "schema": {
                                "fields": [
                                    {
                                        "name": "year"
                                    },
                                    {
                                        "name": "month"
                                    },
                                    {
                                        "name": "total_sales"
                                    }
                                ]
                            },
                            "data": [
                                {
                                    "0": "2010",
                                    "1": "1",
                                    "2": "45964.26"
                                },
                                {
                                    "0": "2010",
                                    "1": "2",
                                    "2": "45742.43"
                                },
                                {
                                    "0": "2010",
                                    "1": "3",
                                    "2": "22254.46"
                                },
                                {
                                    "0": "2010",
                                    "1": "5",
                                    "2": "30966.60"
                                },
                                {
                                    "0": "2010",
                                    "1": "6",
                                    "2": "30423.49"
                                },
                                {
                                    "0": "2010",
                                    "1": "7",
                                    "2": "52912.54"
                                },
                                {
                                    "0": "2010",
                                    "1": "8",
                                    "2": "37736.68"
                                },
                                {
                                    "0": "2010",
                                    "1": "9",
                                    "2": "36699.85"
                                },
                                {
                                    "0": "2010",
                                    "1": "10",
                                    "2": "31429.90"
                                },
                                {
                                    "0": "2010",
                                    "1": "12",
                                    "2": "217429.21"
                                },
                                {
                                    "0": "2011",
                                    "1": "4",
                                    "2": "552359.60"
                                },
                                {
                                    "0": "2011",
                                    "1": "5",
                                    "2": "700206.00"
                                },
                                {
                                    "0": "2011",
                                    "1": "6",
                                    "2": "658566.84"
                                },
                                {
                                    "0": "2011",
                                    "1": "7",
                                    "2": "699761.11"
                                },
                                {
                                    "0": "2011",
                                    "1": "9",
                                    "2": "897039.73"
                                },
                                {
                                    "0": "2011",
                                    "1": "10",
                                    "2": "815682.36"
                                },
                                {
                                    "0": "2011",
                                    "1": "11",
                                    "2": "998483.00"
                                },
                                {
                                    "0": "2011",
                                    "1": "12",
                                    "2": "195507.53"
                                },
                                {
                                    "0": "2011",
                                    "1": "1",
                                    "2": "505233.75"
                                },
                                {
                                    "0": "2011",
                                    "1": "2",
                                    "2": "476620.55"
                                },
                                {
                                    "0": "2011",
                                    "1": "3",
                                    "2": "612240.59"
                                },
                                {
                                    "0": "2011",
                                    "1": "8",
                                    "2": "578517.17"
                                }
                            ]
                        },
                        "text/html": [
                            "<table>",
                            "<tr><th>year</th><th>month</th><th>total_sales</th></tr>",
                            "<tr><td>2010</td><td>1</td><td>45964.26</td></tr>",
                            "<tr><td>2010</td><td>2</td><td>45742.43</td></tr>",
                            "<tr><td>2010</td><td>3</td><td>22254.46</td></tr>",
                            "<tr><td>2010</td><td>5</td><td>30966.60</td></tr>",
                            "<tr><td>2010</td><td>6</td><td>30423.49</td></tr>",
                            "<tr><td>2010</td><td>7</td><td>52912.54</td></tr>",
                            "<tr><td>2010</td><td>8</td><td>37736.68</td></tr>",
                            "<tr><td>2010</td><td>9</td><td>36699.85</td></tr>",
                            "<tr><td>2010</td><td>10</td><td>31429.90</td></tr>",
                            "<tr><td>2010</td><td>12</td><td>217429.21</td></tr>",
                            "<tr><td>2011</td><td>4</td><td>552359.60</td></tr>",
                            "<tr><td>2011</td><td>5</td><td>700206.00</td></tr>",
                            "<tr><td>2011</td><td>6</td><td>658566.84</td></tr>",
                            "<tr><td>2011</td><td>7</td><td>699761.11</td></tr>",
                            "<tr><td>2011</td><td>9</td><td>897039.73</td></tr>",
                            "<tr><td>2011</td><td>10</td><td>815682.36</td></tr>",
                            "<tr><td>2011</td><td>11</td><td>998483.00</td></tr>",
                            "<tr><td>2011</td><td>12</td><td>195507.53</td></tr>",
                            "<tr><td>2011</td><td>1</td><td>505233.75</td></tr>",
                            "<tr><td>2011</td><td>2</td><td>476620.55</td></tr>",
                            "<tr><td>2011</td><td>3</td><td>612240.59</td></tr>",
                            "<tr><td>2011</td><td>8</td><td>578517.17</td></tr>",
                            "</table>"
                        ]
                    }
                }
            ],
            "execution_count": 7
        },
        {
            "cell_type": "markdown",
            "source": [
                "# Drill up\r\n",
                "- What is the total sales amount for each year, aggregated from monthly data?"
            ],
            "metadata": {
                "language": "sql",
                "azdata_cell_guid": "c0124d90-d6cd-434a-8584-cd824a3c07e1"
            },
            "attachments": {}
        },
        {
            "cell_type": "code",
            "source": [
                "SELECT\r\n",
                "    YEAR(invoice_date) AS year,\r\n",
                "    SUM(total_price) AS total_sales\r\n",
                "FROM fact_sales\r\n",
                "GROUP BY YEAR(invoice_date);"
            ],
            "metadata": {
                "language": "sql",
                "azdata_cell_guid": "0e7671c9-f97a-43da-9c42-74409f4f6018"
            },
            "outputs": [
                {
                    "output_type": "display_data",
                    "data": {
                        "text/html": "(2 row(s) affected)"
                    },
                    "metadata": {}
                },
                {
                    "output_type": "display_data",
                    "data": {
                        "text/html": "Total execution time: 00:00:01.264"
                    },
                    "metadata": {}
                },
                {
                    "output_type": "execute_result",
                    "metadata": {},
                    "execution_count": 8,
                    "data": {
                        "application/vnd.dataresource+json": {
                            "schema": {
                                "fields": [
                                    {
                                        "name": "year"
                                    },
                                    {
                                        "name": "total_sales"
                                    }
                                ]
                            },
                            "data": [
                                {
                                    "0": "2010",
                                    "1": "551559.42"
                                },
                                {
                                    "0": "2011",
                                    "1": "7690218.23"
                                }
                            ]
                        },
                        "text/html": [
                            "<table>",
                            "<tr><th>year</th><th>total_sales</th></tr>",
                            "<tr><td>2010</td><td>551559.42</td></tr>",
                            "<tr><td>2011</td><td>7690218.23</td></tr>",
                            "</table>"
                        ]
                    }
                }
            ],
            "execution_count": 8
        },
        {
            "cell_type": "markdown",
            "source": [
                "# Drill across\r\n",
                "- What are the total sales for each country and product?"
            ],
            "metadata": {
                "language": "sql",
                "azdata_cell_guid": "6350663f-36ff-44b5-a584-4bfd74262994"
            },
            "attachments": {}
        },
        {
            "cell_type": "code",
            "source": [
                "SELECT\r\n",
                "    DC.country,\r\n",
                "    SUM(total_price) AS total_sales\r\n",
                "FROM fact_sales FS\r\n",
                "    JOIN dim_country DC ON FS.country = DC.country\r\n",
                "GROUP BY DC.country;"
            ],
            "metadata": {
                "language": "sql",
                "azdata_cell_guid": "c871b51e-4617-4a15-9947-df45dfa7cf35"
            },
            "outputs": [
                {
                    "output_type": "display_data",
                    "data": {
                        "text/html": "(37 row(s) affected)"
                    },
                    "metadata": {}
                },
                {
                    "output_type": "display_data",
                    "data": {
                        "text/html": "Total execution time: 00:00:02.755"
                    },
                    "metadata": {}
                },
                {
                    "output_type": "execute_result",
                    "metadata": {},
                    "execution_count": 9,
                    "data": {
                        "application/vnd.dataresource+json": {
                            "schema": {
                                "fields": [
                                    {
                                        "name": "country"
                                    },
                                    {
                                        "name": "total_sales"
                                    }
                                ]
                            },
                            "data": [
                                {
                                    "0": "Australia",
                                    "1": "136990.00"
                                },
                                {
                                    "0": "Austria",
                                    "1": "8698.32"
                                },
                                {
                                    "0": "Bahrain",
                                    "1": "548.40"
                                },
                                {
                                    "0": "Belgium",
                                    "1": "36662.96"
                                },
                                {
                                    "0": "Brazil",
                                    "1": "1143.60"
                                },
                                {
                                    "0": "Canada",
                                    "1": "3115.44"
                                },
                                {
                                    "0": "Channel Islands",
                                    "1": "20086.29"
                                },
                                {
                                    "0": "Cyprus",
                                    "1": "12931.29"
                                },
                                {
                                    "0": "Czech Republic",
                                    "1": "671.72"
                                },
                                {
                                    "0": "Denmark",
                                    "1": "18042.14"
                                },
                                {
                                    "0": "EIRE",
                                    "1": "250356.02"
                                },
                                {
                                    "0": "European Community",
                                    "1": "1150.75"
                                },
                                {
                                    "0": "Finland",
                                    "1": "18854.74"
                                },
                                {
                                    "0": "France",
                                    "1": "181640.34"
                                },
                                {
                                    "0": "Germany",
                                    "1": "200877.21"
                                },
                                {
                                    "0": "Greece",
                                    "1": "4425.52"
                                },
                                {
                                    "0": "Iceland",
                                    "1": "4310.00"
                                },
                                {
                                    "0": "Israel",
                                    "1": "6994.25"
                                },
                                {
                                    "0": "Italy",
                                    "1": "15245.51"
                                },
                                {
                                    "0": "Japan",
                                    "1": "35340.62"
                                },
                                {
                                    "0": "Lebanon",
                                    "1": "1693.88"
                                },
                                {
                                    "0": "Lithuania",
                                    "1": "1661.06"
                                },
                                {
                                    "0": "Malta",
                                    "1": "1980.47"
                                },
                                {
                                    "0": "Netherlands",
                                    "1": "283167.54"
                                },
                                {
                                    "0": "Norway",
                                    "1": "32292.96"
                                },
                                {
                                    "0": "Poland",
                                    "1": "6853.14"
                                },
                                {
                                    "0": "Portugal",
                                    "1": "26551.81"
                                },
                                {
                                    "0": "RSA",
                                    "1": "1002.31"
                                },
                                {
                                    "0": "Saudi Arabia",
                                    "1": "131.17"
                                },
                                {
                                    "0": "Singapore",
                                    "1": "9120.39"
                                },
                                {
                                    "0": "Spain",
                                    "1": "48922.58"
                                },
                                {
                                    "0": "Sweden",
                                    "1": "35206.91"
                                },
                                {
                                    "0": "Switzerland",
                                    "1": "51859.40"
                                },
                                {
                                    "0": "United Arab Emirates",
                                    "1": "1864.78"
                                },
                                {
                                    "0": "United Kingdom",
                                    "1": "6776986.14"
                                },
                                {
                                    "0": "Unspecified",
                                    "1": "2667.07"
                                },
                                {
                                    "0": "USA",
                                    "1": "1730.92"
                                }
                            ]
                        },
                        "text/html": [
                            "<table>",
                            "<tr><th>country</th><th>total_sales</th></tr>",
                            "<tr><td>Australia</td><td>136990.00</td></tr>",
                            "<tr><td>Austria</td><td>8698.32</td></tr>",
                            "<tr><td>Bahrain</td><td>548.40</td></tr>",
                            "<tr><td>Belgium</td><td>36662.96</td></tr>",
                            "<tr><td>Brazil</td><td>1143.60</td></tr>",
                            "<tr><td>Canada</td><td>3115.44</td></tr>",
                            "<tr><td>Channel Islands</td><td>20086.29</td></tr>",
                            "<tr><td>Cyprus</td><td>12931.29</td></tr>",
                            "<tr><td>Czech Republic</td><td>671.72</td></tr>",
                            "<tr><td>Denmark</td><td>18042.14</td></tr>",
                            "<tr><td>EIRE</td><td>250356.02</td></tr>",
                            "<tr><td>European Community</td><td>1150.75</td></tr>",
                            "<tr><td>Finland</td><td>18854.74</td></tr>",
                            "<tr><td>France</td><td>181640.34</td></tr>",
                            "<tr><td>Germany</td><td>200877.21</td></tr>",
                            "<tr><td>Greece</td><td>4425.52</td></tr>",
                            "<tr><td>Iceland</td><td>4310.00</td></tr>",
                            "<tr><td>Israel</td><td>6994.25</td></tr>",
                            "<tr><td>Italy</td><td>15245.51</td></tr>",
                            "<tr><td>Japan</td><td>35340.62</td></tr>",
                            "<tr><td>Lebanon</td><td>1693.88</td></tr>",
                            "<tr><td>Lithuania</td><td>1661.06</td></tr>",
                            "<tr><td>Malta</td><td>1980.47</td></tr>",
                            "<tr><td>Netherlands</td><td>283167.54</td></tr>",
                            "<tr><td>Norway</td><td>32292.96</td></tr>",
                            "<tr><td>Poland</td><td>6853.14</td></tr>",
                            "<tr><td>Portugal</td><td>26551.81</td></tr>",
                            "<tr><td>RSA</td><td>1002.31</td></tr>",
                            "<tr><td>Saudi Arabia</td><td>131.17</td></tr>",
                            "<tr><td>Singapore</td><td>9120.39</td></tr>",
                            "<tr><td>Spain</td><td>48922.58</td></tr>",
                            "<tr><td>Sweden</td><td>35206.91</td></tr>",
                            "<tr><td>Switzerland</td><td>51859.40</td></tr>",
                            "<tr><td>United Arab Emirates</td><td>1864.78</td></tr>",
                            "<tr><td>United Kingdom</td><td>6776986.14</td></tr>",
                            "<tr><td>Unspecified</td><td>2667.07</td></tr>",
                            "<tr><td>USA</td><td>1730.92</td></tr>",
                            "</table>"
                        ]
                    }
                }
            ],
            "execution_count": 9
        },
        {
            "cell_type": "markdown",
            "source": [
                "# Drill through\r\n",
                "- What are the sales transactions specifically for the product with stock code '85123A'?"
            ],
            "metadata": {
                "language": "sql",
                "azdata_cell_guid": "faf8d6c9-3a2d-4a57-8b98-aaa1831850b5"
            },
            "attachments": {}
        },
        {
            "cell_type": "code",
            "source": [
                "SELECT * FROM fact_sales WHERE stock_code = '85123A'\r\n",
                "LIMIT 20;"
            ],
            "metadata": {
                "language": "sql",
                "azdata_cell_guid": "ce33d487-3864-431c-a9af-27d01d8de5c6"
            },
            "outputs": [
                {
                    "output_type": "display_data",
                    "data": {
                        "text/html": "(20 row(s) affected)"
                    },
                    "metadata": {}
                },
                {
                    "output_type": "display_data",
                    "data": {
                        "text/html": "Total execution time: 00:00:01.018"
                    },
                    "metadata": {}
                },
                {
                    "output_type": "execute_result",
                    "metadata": {},
                    "execution_count": 14,
                    "data": {
                        "application/vnd.dataresource+json": {
                            "schema": {
                                "fields": [
                                    {
                                        "name": "fact_id"
                                    },
                                    {
                                        "name": "stock_code"
                                    },
                                    {
                                        "name": "customer_id"
                                    },
                                    {
                                        "name": "invoice_date"
                                    },
                                    {
                                        "name": "country"
                                    },
                                    {
                                        "name": "total_price"
                                    }
                                ]
                            },
                            "data": [
                                {
                                    "0": "1",
                                    "1": "85123A",
                                    "2": "NULL",
                                    "3": "2010-01-12 08:26:00",
                                    "4": "United Kingdom",
                                    "5": "15.30"
                                },
                                {
                                    "0": "2",
                                    "1": "85123A",
                                    "2": "NULL",
                                    "3": "2010-01-12 09:02:00",
                                    "4": "United Kingdom",
                                    "5": "15.30"
                                },
                                {
                                    "0": "3",
                                    "1": "85123A",
                                    "2": "NULL",
                                    "3": "2010-01-12 09:32:00",
                                    "4": "United Kingdom",
                                    "5": "15.30"
                                },
                                {
                                    "0": "4",
                                    "1": "85123A",
                                    "2": "NULL",
                                    "3": "2010-01-12 10:19:00",
                                    "4": "United Kingdom",
                                    "5": "163.20"
                                },
                                {
                                    "0": "5",
                                    "1": "85123A",
                                    "2": "NULL",
                                    "3": "2010-01-12 10:39:00",
                                    "4": "United Kingdom",
                                    "5": "81.60"
                                },
                                {
                                    "0": "6",
                                    "1": "85123A",
                                    "2": "NULL",
                                    "3": "2010-01-12 10:51:00",
                                    "4": "United Kingdom",
                                    "5": "15.30"
                                },
                                {
                                    "0": "7",
                                    "1": "85123A",
                                    "2": "NULL",
                                    "3": "2010-01-12 11:21:00",
                                    "4": "United Kingdom",
                                    "5": "11.80"
                                },
                                {
                                    "0": "8",
                                    "1": "85123A",
                                    "2": "NULL",
                                    "3": "2010-01-12 11:33:00",
                                    "4": "United Kingdom",
                                    "5": "20.40"
                                },
                                {
                                    "0": "9",
                                    "1": "85123A",
                                    "2": "NULL",
                                    "3": "2010-01-12 12:36:00",
                                    "4": "United Kingdom",
                                    "5": "17.70"
                                },
                                {
                                    "0": "10",
                                    "1": "85123A",
                                    "2": "NULL",
                                    "3": "2010-01-12 12:43:00",
                                    "4": "United Kingdom",
                                    "5": "8.85"
                                },
                                {
                                    "0": "11",
                                    "1": "85123A",
                                    "2": "NULL",
                                    "3": "2010-01-12 14:11:00",
                                    "4": "United Kingdom",
                                    "5": "94.40"
                                },
                                {
                                    "0": "12",
                                    "1": "85123A",
                                    "2": "NULL",
                                    "3": "2010-01-12 16:01:00",
                                    "4": "United Kingdom",
                                    "5": "326.40"
                                },
                                {
                                    "0": "13",
                                    "1": "85123A",
                                    "2": "NULL",
                                    "3": "2010-01-12 16:11:00",
                                    "4": "United Kingdom",
                                    "5": "326.40"
                                },
                                {
                                    "0": "14",
                                    "1": "85123A",
                                    "2": "NULL",
                                    "3": "2010-01-12 16:52:00",
                                    "4": "United Kingdom",
                                    "5": "17.70"
                                },
                                {
                                    "0": "15",
                                    "1": "85123A",
                                    "2": "NULL",
                                    "3": "2010-01-12 17:22:00",
                                    "4": "United Kingdom",
                                    "5": "17.70"
                                },
                                {
                                    "0": "16",
                                    "1": "85123A",
                                    "2": "NULL",
                                    "3": "2010-02-12 08:32:00",
                                    "4": "United Kingdom",
                                    "5": "15.30"
                                },
                                {
                                    "0": "17",
                                    "1": "85123A",
                                    "2": "NULL",
                                    "3": "2010-02-12 08:34:00",
                                    "4": "United Kingdom",
                                    "5": "15.30"
                                },
                                {
                                    "0": "18",
                                    "1": "85123A",
                                    "2": "NULL",
                                    "3": "2010-02-12 09:29:00",
                                    "4": "United Kingdom",
                                    "5": "17.70"
                                },
                                {
                                    "0": "19",
                                    "1": "85123A",
                                    "2": "NULL",
                                    "3": "2010-02-12 09:41:00",
                                    "4": "United Kingdom",
                                    "5": "15.30"
                                },
                                {
                                    "0": "20",
                                    "1": "85123A",
                                    "2": "NULL",
                                    "3": "2010-02-12 09:44:00",
                                    "4": "United Kingdom",
                                    "5": "15.30"
                                }
                            ]
                        },
                        "text/html": [
                            "<table>",
                            "<tr><th>fact_id</th><th>stock_code</th><th>customer_id</th><th>invoice_date</th><th>country</th><th>total_price</th></tr>",
                            "<tr><td>1</td><td>85123A</td><td>NULL</td><td>2010-01-12 08:26:00</td><td>United Kingdom</td><td>15.30</td></tr>",
                            "<tr><td>2</td><td>85123A</td><td>NULL</td><td>2010-01-12 09:02:00</td><td>United Kingdom</td><td>15.30</td></tr>",
                            "<tr><td>3</td><td>85123A</td><td>NULL</td><td>2010-01-12 09:32:00</td><td>United Kingdom</td><td>15.30</td></tr>",
                            "<tr><td>4</td><td>85123A</td><td>NULL</td><td>2010-01-12 10:19:00</td><td>United Kingdom</td><td>163.20</td></tr>",
                            "<tr><td>5</td><td>85123A</td><td>NULL</td><td>2010-01-12 10:39:00</td><td>United Kingdom</td><td>81.60</td></tr>",
                            "<tr><td>6</td><td>85123A</td><td>NULL</td><td>2010-01-12 10:51:00</td><td>United Kingdom</td><td>15.30</td></tr>",
                            "<tr><td>7</td><td>85123A</td><td>NULL</td><td>2010-01-12 11:21:00</td><td>United Kingdom</td><td>11.80</td></tr>",
                            "<tr><td>8</td><td>85123A</td><td>NULL</td><td>2010-01-12 11:33:00</td><td>United Kingdom</td><td>20.40</td></tr>",
                            "<tr><td>9</td><td>85123A</td><td>NULL</td><td>2010-01-12 12:36:00</td><td>United Kingdom</td><td>17.70</td></tr>",
                            "<tr><td>10</td><td>85123A</td><td>NULL</td><td>2010-01-12 12:43:00</td><td>United Kingdom</td><td>8.85</td></tr>",
                            "<tr><td>11</td><td>85123A</td><td>NULL</td><td>2010-01-12 14:11:00</td><td>United Kingdom</td><td>94.40</td></tr>",
                            "<tr><td>12</td><td>85123A</td><td>NULL</td><td>2010-01-12 16:01:00</td><td>United Kingdom</td><td>326.40</td></tr>",
                            "<tr><td>13</td><td>85123A</td><td>NULL</td><td>2010-01-12 16:11:00</td><td>United Kingdom</td><td>326.40</td></tr>",
                            "<tr><td>14</td><td>85123A</td><td>NULL</td><td>2010-01-12 16:52:00</td><td>United Kingdom</td><td>17.70</td></tr>",
                            "<tr><td>15</td><td>85123A</td><td>NULL</td><td>2010-01-12 17:22:00</td><td>United Kingdom</td><td>17.70</td></tr>",
                            "<tr><td>16</td><td>85123A</td><td>NULL</td><td>2010-02-12 08:32:00</td><td>United Kingdom</td><td>15.30</td></tr>",
                            "<tr><td>17</td><td>85123A</td><td>NULL</td><td>2010-02-12 08:34:00</td><td>United Kingdom</td><td>15.30</td></tr>",
                            "<tr><td>18</td><td>85123A</td><td>NULL</td><td>2010-02-12 09:29:00</td><td>United Kingdom</td><td>17.70</td></tr>",
                            "<tr><td>19</td><td>85123A</td><td>NULL</td><td>2010-02-12 09:41:00</td><td>United Kingdom</td><td>15.30</td></tr>",
                            "<tr><td>20</td><td>85123A</td><td>NULL</td><td>2010-02-12 09:44:00</td><td>United Kingdom</td><td>15.30</td></tr>",
                            "</table>"
                        ]
                    }
                }
            ],
            "execution_count": 14
        }
    ]
}