{
    "cells": [
        {
            "attachments": {},
            "cell_type": "markdown",
            "metadata": {
                "azdata_cell_guid": "4287eba0-03ac-4722-a959-524a901f0403"
            },
            "source": [
                "# <center>CSC 328 Practical Question 1</center>\n",
                "## <center>Wakhisi Kevin Wasike</center>\n",
                "## <center>P15/1928/2020</center>\n"
            ]
        },
        {
            "attachments": {},
            "cell_type": "markdown",
            "metadata": {
                "azdata_cell_guid": "c2e15160-b306-40a8-b34d-06fcf4d8a1db"
            },
            "source": [
                "Data for this practical was gotten from [UCI Machine Learning Repository: Online Retail Data Set](https:\\\\archive.ics.uci.edu\\\\ml\\\\datasets\\\\online+retail). This is what has been used to create the star, galaxy and snowflake schemas. The csv file has the following columns:\n",
                "\n",
                "1. invoice\\_no\n",
                "2. stock\\_code\n",
                "3. description\n",
                "4. quantity\n",
                "5. invoice\\_date\n",
                "6. unit\\_price\n",
                "7. customer\\_id\n",
                "8. country\n",
                "\n",
                "The tool that has been employed in this practical is [Azure Data Studio](https://learn.microsoft.com/en-us/sql/azure-data-studio/what-is-azure-data-studio?view=sql-server-ver16). It offers features such as SQL code editor, Intellisense, Jupyter Notebook integration, and the really neat thing about this is that, not only can it run python notebooks, but also SQL notebooks, as you can see in this document. Thejupyter notebook has then been exported to this pdf.\n",
                "\n",
                "Azure Data Studio offers a modern editor experience with IntelliSense, code snippets, source control integration, and an integrated terminal. It's engineered with the data platform user in mind, with built-in charting of query result sets and customizable dashboards."
            ]
        },
        {
            "attachments": {},
            "cell_type": "markdown",
            "metadata": {
                "azdata_cell_guid": "2c9f6a1d-e929-4151-8fa8-d1ec178b582e"
            },
            "source": [
                "## 1\\. <u>STAR SCHEMA</u>"
            ]
        },
        {
            "attachments": {},
            "cell_type": "markdown",
            "metadata": {
                "azdata_cell_guid": "d60d8df7-2acf-402f-8e78-0a78b75112d4"
            },
            "source": [
                "![star](/home/waks/Repos/public/business-intelligence-and_analytics/star.png)"
            ]
        },
        {
            "attachments": {},
            "cell_type": "markdown",
            "metadata": {
                "azdata_cell_guid": "ad5e9a48-4743-4cdf-a696-323d0a63136f"
            },
            "source": [
                "## Preliminaries"
            ]
        },
        {
            "cell_type": "code",
            "execution_count": 1,
            "metadata": {
                "azdata_cell_guid": "8e9d944c-eec8-4c7d-9043-eaa3a3ac47b3",
                "language": "sql"
            },
            "outputs": [
                {
                    "data": {
                        "text/html": [
                            "Commands completed successfully"
                        ]
                    },
                    "metadata": {},
                    "output_type": "display_data"
                },
                {
                    "data": {
                        "text/html": [
                            "Commands completed successfully"
                        ]
                    },
                    "metadata": {},
                    "output_type": "display_data"
                },
                {
                    "data": {
                        "text/html": [
                            "Commands completed successfully"
                        ]
                    },
                    "metadata": {},
                    "output_type": "display_data"
                },
                {
                    "data": {
                        "text/html": [
                            "Commands completed successfully"
                        ]
                    },
                    "metadata": {},
                    "output_type": "display_data"
                },
                {
                    "data": {
                        "text/html": [
                            "Commands completed successfully"
                        ]
                    },
                    "metadata": {},
                    "output_type": "display_data"
                },
                {
                    "data": {
                        "text/html": [
                            "Commands completed successfully"
                        ]
                    },
                    "metadata": {},
                    "output_type": "display_data"
                },
                {
                    "data": {
                        "text/html": [
                            "Commands completed successfully"
                        ]
                    },
                    "metadata": {},
                    "output_type": "display_data"
                },
                {
                    "data": {
                        "text/html": [
                            "Total execution time: 00:00:10.052"
                        ]
                    },
                    "metadata": {},
                    "output_type": "display_data"
                }
            ],
            "source": [
                "USE online_retail_star;\n",
                "\n",
                "DROP TABLE IF EXISTS fact_sales;\n",
                "\n",
                "DROP TABLE IF EXISTS dim_product;\n",
                "\n",
                "DROP TABLE IF EXISTS dim_customer;\n",
                "\n",
                "DROP TABLE IF EXISTS dim_date;\n",
                "\n",
                "DROP TABLE IF EXISTS dim_country;\n",
                "\n",
                "DROP TABLE IF EXISTS online_retail;"
            ]
        },
        {
            "attachments": {},
            "cell_type": "markdown",
            "metadata": {
                "azdata_cell_guid": "989e8ee5-32e2-40fb-8c57-7a5bd64267fa"
            },
            "source": [
                "## Load the Dataset"
            ]
        },
        {
            "cell_type": "code",
            "execution_count": 2,
            "metadata": {
                "azdata_cell_guid": "1489b6fe-5237-4d63-89e4-0f9a5ef01ff3",
                "language": "sql"
            },
            "outputs": [
                {
                    "data": {
                        "text/html": [
                            "Commands completed successfully"
                        ]
                    },
                    "metadata": {},
                    "output_type": "display_data"
                },
                {
                    "data": {
                        "text/html": [
                            "Commands completed successfully"
                        ]
                    },
                    "metadata": {},
                    "output_type": "display_data"
                },
                {
                    "data": {
                        "text/html": [
                            "Total execution time: 00:00:40.369"
                        ]
                    },
                    "metadata": {},
                    "output_type": "display_data"
                }
            ],
            "source": [
                "CREATE TABLE\n",
                "    online_retail (\n",
                "        invoice_no VARCHAR(100),\n",
                "        stock_code VARCHAR(255),\n",
                "        description VARCHAR(255),\n",
                "        quantity INT,\n",
                "        invoice_date DATETIME,\n",
                "        unit_price DECIMAL(8, 2),\n",
                "        customer_id VARCHAR(100),\n",
                "        country VARCHAR(100)\n",
                "    );\n",
                "\n",
                "LOAD DATA\n",
                "    INFILE '/var/lib/mysql-files/online_retail.csv' INTO\n",
                "TABLE\n",
                "    online_retail FIELDS TERMINATED BY ',' ENCLOSED BY '\"' LINES TERMINATED BY '\\n' IGNORE 1 LINES(\n",
                "        invoice_no,\n",
                "        stock_code,\n",
                "        description,\n",
                "        quantity,\n",
                "        @invoice_date,\n",
                "        unit_price,\n",
                "        customer_id,\n",
                "        country\n",
                "    )\n",
                "SET\n",
                "    invoice_date = STR_TO_DATE(\n",
                "        @invoice_date,\n",
                "        '%d/%m/%Y %H:%i'\n",
                "    );"
            ]
        },
        {
            "attachments": {},
            "cell_type": "markdown",
            "metadata": {
                "azdata_cell_guid": "8e6b223e-be0e-4ff7-9d46-e515f7f8b3cd"
            },
            "source": [
                "## Create and populate Dimension Tables"
            ]
        },
        {
            "attachments": {},
            "cell_type": "markdown",
            "metadata": {
                "azdata_cell_guid": "a28c3146-5b86-4588-8e4f-184d32e252a6"
            },
            "source": [
                "### dim\\_product"
            ]
        },
        {
            "cell_type": "code",
            "execution_count": 3,
            "metadata": {
                "azdata_cell_guid": "78fb9b07-36af-41ac-b8ed-1bc075e6bcbe",
                "language": "sql"
            },
            "outputs": [
                {
                    "data": {
                        "text/html": [
                            "Commands completed successfully"
                        ]
                    },
                    "metadata": {},
                    "output_type": "display_data"
                },
                {
                    "data": {
                        "text/html": [
                            "Commands completed successfully"
                        ]
                    },
                    "metadata": {},
                    "output_type": "display_data"
                },
                {
                    "data": {
                        "text/html": [
                            "Total execution time: 00:00:18.904"
                        ]
                    },
                    "metadata": {},
                    "output_type": "display_data"
                }
            ],
            "source": [
                "CREATE TABLE\n",
                "    dim_product (\n",
                "        stock_code VARCHAR(255) PRIMARY KEY,\n",
                "        description VARCHAR(255)\n",
                "    );\n",
                "\n",
                "INSERT INTO\n",
                "    dim_product (stock_code, description)\n",
                "SELECT\n",
                "    DISTINCT stock_code,\n",
                "    description\n",
                "FROM online_retail;"
            ]
        },
        {
            "attachments": {},
            "cell_type": "markdown",
            "metadata": {
                "azdata_cell_guid": "79f1fdbd-1141-49de-b67a-24042360e959"
            },
            "source": [
                "### dim\\_customer"
            ]
        },
        {
            "cell_type": "code",
            "execution_count": 4,
            "metadata": {
                "azdata_cell_guid": "f9a4b199-dd22-428a-963d-af0b5fe432a0",
                "language": "sql"
            },
            "outputs": [
                {
                    "data": {
                        "text/html": [
                            "Commands completed successfully"
                        ]
                    },
                    "metadata": {},
                    "output_type": "display_data"
                },
                {
                    "data": {
                        "text/html": [
                            "Commands completed successfully"
                        ]
                    },
                    "metadata": {},
                    "output_type": "display_data"
                },
                {
                    "data": {
                        "text/html": [
                            "Total execution time: 00:00:08.239"
                        ]
                    },
                    "metadata": {},
                    "output_type": "display_data"
                }
            ],
            "source": [
                "CREATE TABLE\n",
                "    dim_customer (\n",
                "        customer_id INT AUTO_INCREMENT PRIMARY KEY,\n",
                "        customer_name VARCHAR(255),\n",
                "        country VARCHAR(100)\n",
                "    );\n",
                "\n",
                "INSERT INTO\n",
                "    dim_customer (customer_name, country)\n",
                "SELECT\n",
                "    DISTINCT customer_id,\n",
                "    country\n",
                "FROM online_retail;"
            ]
        },
        {
            "attachments": {},
            "cell_type": "markdown",
            "metadata": {
                "azdata_cell_guid": "0e34acbc-a504-4fc0-8480-78157e4aa489"
            },
            "source": [
                "### dim\\_date"
            ]
        },
        {
            "cell_type": "code",
            "execution_count": 5,
            "metadata": {
                "azdata_cell_guid": "27ddf430-29ff-4ab7-97e7-3ebcba41f894",
                "language": "sql"
            },
            "outputs": [
                {
                    "data": {
                        "text/html": [
                            "Commands completed successfully"
                        ]
                    },
                    "metadata": {},
                    "output_type": "display_data"
                },
                {
                    "data": {
                        "text/html": [
                            "Commands completed successfully"
                        ]
                    },
                    "metadata": {},
                    "output_type": "display_data"
                },
                {
                    "data": {
                        "text/html": [
                            "Total execution time: 00:00:14.304"
                        ]
                    },
                    "metadata": {},
                    "output_type": "display_data"
                }
            ],
            "source": [
                "CREATE TABLE\n",
                "    dim_date (\n",
                "        invoice_date DATETIME PRIMARY KEY,\n",
                "        day INT,\n",
                "        month INT,\n",
                "        year INT\n",
                "    );\n",
                "\n",
                "INSERT INTO\n",
                "    dim_date (invoice_date, day, month, year)\n",
                "SELECT\n",
                "    DISTINCT invoice_date,\n",
                "    DAY(invoice_date),\n",
                "    MONTH(invoice_date),\n",
                "    YEAR(invoice_date)\n",
                "FROM online_retail;"
            ]
        },
        {
            "attachments": {},
            "cell_type": "markdown",
            "metadata": {
                "azdata_cell_guid": "6078ff94-d2d6-430f-bd45-7ea5128e4fde"
            },
            "source": [
                "### dim\\_country"
            ]
        },
        {
            "cell_type": "code",
            "execution_count": 6,
            "metadata": {
                "azdata_cell_guid": "6e9f9cb9-510b-41ff-b520-2563e8d21da5",
                "language": "sql"
            },
            "outputs": [
                {
                    "data": {
                        "text/html": [
                            "Commands completed successfully"
                        ]
                    },
                    "metadata": {},
                    "output_type": "display_data"
                },
                {
                    "data": {
                        "text/html": [
                            "Commands completed successfully"
                        ]
                    },
                    "metadata": {},
                    "output_type": "display_data"
                },
                {
                    "data": {
                        "text/html": [
                            "Total execution time: 00:00:05.468"
                        ]
                    },
                    "metadata": {},
                    "output_type": "display_data"
                }
            ],
            "source": [
                "CREATE TABLE\n",
                "    dim_country (\n",
                "        country VARCHAR(100) PRIMARY KEY\n",
                "    );\n",
                "\n",
                "INSERT INTO\n",
                "    dim_country (country)\n",
                "SELECT DISTINCT country\n",
                "FROM online_retail;"
            ]
        },
        {
            "attachments": {},
            "cell_type": "markdown",
            "metadata": {
                "azdata_cell_guid": "457e8679-122e-43cf-813a-f1be7e7f64d7"
            },
            "source": [
                "## Create and populate fact table"
            ]
        },
        {
            "attachments": {},
            "cell_type": "markdown",
            "metadata": {
                "azdata_cell_guid": "2813e6ee-62c5-4562-87d0-ae0ec6c5e530"
            },
            "source": [
                "### fact\\_sales"
            ]
        },
        {
            "cell_type": "code",
            "execution_count": 7,
            "metadata": {
                "azdata_cell_guid": "08a0d27c-cc1a-4e4a-a387-1284de7b13ab",
                "language": "sql"
            },
            "outputs": [
                {
                    "data": {
                        "text/html": [
                            "Commands completed successfully"
                        ]
                    },
                    "metadata": {},
                    "output_type": "display_data"
                },
                {
                    "data": {
                        "text/html": [
                            "Commands completed successfully"
                        ]
                    },
                    "metadata": {},
                    "output_type": "display_data"
                },
                {
                    "data": {
                        "text/html": [
                            "Total execution time: 00:03:49.886"
                        ]
                    },
                    "metadata": {},
                    "output_type": "display_data"
                }
            ],
            "source": [
                "CREATE TABLE\n",
                "    fact_sales (\n",
                "        fact_id INT AUTO_INCREMENT PRIMARY KEY,\n",
                "        stock_code VARCHAR(255),\n",
                "        customer_id INT,\n",
                "        invoice_date DATETIME,\n",
                "        country VARCHAR(100),\n",
                "        total_price DECIMAL(10, 2),\n",
                "        FOREIGN KEY (stock_code) REFERENCES dim_product(stock_code),\n",
                "        FOREIGN KEY (customer_id) REFERENCES dim_customer(customer_id),\n",
                "        FOREIGN KEY (invoice_date) REFERENCES dim_date(invoice_date),\n",
                "        FOREIGN KEY (country) REFERENCES dim_country(country)\n",
                "    );\n",
                "\n",
                "INSERT INTO\n",
                "    fact_sales (\n",
                "        stock_code,\n",
                "        customer_id,\n",
                "        invoice_date,\n",
                "        country,\n",
                "        total_price\n",
                "    )\n",
                "SELECT\n",
                "    ORT.stock_code,\n",
                "    DC.customer_id,\n",
                "    ORT.invoice_date,\n",
                "    ORT.country, (ORT.quantity * ORT.unit_price) AS total_price\n",
                "FROM online_retail ORT\n",
                "    LEFT JOIN dim_product DP ON ORT.stock_code = DP.stock_code\n",
                "    LEFT JOIN dim_customer DC ON ORT.customer_id = DC.customer_id\n",
                "    LEFT JOIN dim_date DD ON ORT.invoice_date = DD.invoice_date\n",
                "    LEFT JOIN dim_country DCO ON ORT.country = DCO.country;"
            ]
        },
        {
            "attachments": {},
            "cell_type": "markdown",
            "metadata": {
                "azdata_cell_guid": "297fc1e1-984b-45f2-b7c7-50d81e4fb17a",
                "language": ""
            },
            "source": [
                "# 2. <u>GALAXY SCHEMA</u>"
            ]
        },
        {
            "attachments": {},
            "cell_type": "markdown",
            "metadata": {
                "azdata_cell_guid": "19cc6532-f8ba-4db4-88ee-ea10aa7e2017"
            },
            "source": [
                "![galaxy](/home/waks/Repos/public/business-intelligence-and_analytics/galaxy.png)"
            ]
        },
        {
            "attachments": {},
            "cell_type": "markdown",
            "metadata": {
                "azdata_cell_guid": "a64f7a74-10a1-429f-adc0-d843653c7203"
            },
            "source": [
                "## Preliminaries"
            ]
        },
        {
            "cell_type": "code",
            "execution_count": 8,
            "metadata": {
                "azdata_cell_guid": "71b51d49-8961-4267-a889-acb198d1a1cd",
                "language": "sql"
            },
            "outputs": [
                {
                    "data": {
                        "text/html": [
                            "Commands completed successfully"
                        ]
                    },
                    "metadata": {},
                    "output_type": "display_data"
                },
                {
                    "data": {
                        "text/html": [
                            "Commands completed successfully"
                        ]
                    },
                    "metadata": {},
                    "output_type": "display_data"
                },
                {
                    "data": {
                        "text/html": [
                            "Commands completed successfully"
                        ]
                    },
                    "metadata": {},
                    "output_type": "display_data"
                },
                {
                    "data": {
                        "text/html": [
                            "Commands completed successfully"
                        ]
                    },
                    "metadata": {},
                    "output_type": "display_data"
                },
                {
                    "data": {
                        "text/html": [
                            "Commands completed successfully"
                        ]
                    },
                    "metadata": {},
                    "output_type": "display_data"
                },
                {
                    "data": {
                        "text/html": [
                            "Commands completed successfully"
                        ]
                    },
                    "metadata": {},
                    "output_type": "display_data"
                },
                {
                    "data": {
                        "text/html": [
                            "Commands completed successfully"
                        ]
                    },
                    "metadata": {},
                    "output_type": "display_data"
                },
                {
                    "data": {
                        "text/html": [
                            "Commands completed successfully"
                        ]
                    },
                    "metadata": {},
                    "output_type": "display_data"
                },
                {
                    "data": {
                        "text/html": [
                            "Total execution time: 00:00:13.212"
                        ]
                    },
                    "metadata": {},
                    "output_type": "display_data"
                }
            ],
            "source": [
                "USE online_retail_galaxy;\n",
                "\n",
                "DROP TABLE IF EXISTS fact_sales;\n",
                "\n",
                "DROP TABLE IF EXISTS fact_returns;\n",
                "\n",
                "DROP TABLE IF EXISTS dim_product;\n",
                "\n",
                "DROP TABLE IF EXISTS dim_customer;\n",
                "\n",
                "DROP TABLE IF EXISTS dim_date;\n",
                "\n",
                "DROP TABLE IF EXISTS dim_country;\n",
                "\n",
                "DROP TABLE IF EXISTS online_retail;"
            ]
        },
        {
            "attachments": {},
            "cell_type": "markdown",
            "metadata": {
                "azdata_cell_guid": "4969c8d2-6094-4d1e-a863-450362a96fb9",
                "language": "sql"
            },
            "source": [
                "## Load the Dataset"
            ]
        },
        {
            "cell_type": "code",
            "execution_count": 9,
            "metadata": {
                "azdata_cell_guid": "c2e512f0-b9dd-4edc-aee6-f8499e460523",
                "language": "sql"
            },
            "outputs": [
                {
                    "data": {
                        "text/html": [
                            "Commands completed successfully"
                        ]
                    },
                    "metadata": {},
                    "output_type": "display_data"
                },
                {
                    "data": {
                        "text/html": [
                            "Commands completed successfully"
                        ]
                    },
                    "metadata": {},
                    "output_type": "display_data"
                },
                {
                    "data": {
                        "text/html": [
                            "Total execution time: 00:02:32.568"
                        ]
                    },
                    "metadata": {},
                    "output_type": "display_data"
                }
            ],
            "source": [
                "CREATE TABLE\n",
                "    online_retail (\n",
                "        invoice_no VARCHAR(100),\n",
                "        stock_code VARCHAR(255),\n",
                "        description VARCHAR(255),\n",
                "        quantity INT,\n",
                "        invoice_date DATETIME,\n",
                "        unit_price DECIMAL(8, 2),\n",
                "        customer_id VARCHAR(100),\n",
                "        country VARCHAR(100)\n",
                "    );\n",
                "\n",
                "LOAD DATA\n",
                "    INFILE '/var/lib/mysql-files/online_retail.csv' INTO\n",
                "TABLE\n",
                "    online_retail FIELDS TERMINATED BY ',' ENCLOSED BY '\"' LINES TERMINATED BY '\\n' IGNORE 1 LINES(\n",
                "        invoice_no,\n",
                "        stock_code,\n",
                "        description,\n",
                "        quantity,\n",
                "        @invoice_date,\n",
                "        unit_price,\n",
                "        customer_id,\n",
                "        country\n",
                "    )\n",
                "SET\n",
                "    invoice_date = STR_TO_DATE(\n",
                "        @invoice_date,\n",
                "        '%d/%m/%Y %H:%i'\n",
                "    );"
            ]
        },
        {
            "attachments": {},
            "cell_type": "markdown",
            "metadata": {
                "azdata_cell_guid": "95cd4b43-229e-47ff-92f0-91dc7a243496"
            },
            "source": [
                "## Create and populate Dimension Tables"
            ]
        },
        {
            "attachments": {},
            "cell_type": "markdown",
            "metadata": {
                "azdata_cell_guid": "48156d0e-d4c0-41e7-8252-25e800edccfd"
            },
            "source": [
                "### dim\\_product"
            ]
        },
        {
            "cell_type": "code",
            "execution_count": 10,
            "metadata": {
                "azdata_cell_guid": "781f6b76-ba4e-4304-8f37-52d82584e7c8",
                "language": "sql"
            },
            "outputs": [
                {
                    "data": {
                        "text/html": [
                            "Commands completed successfully"
                        ]
                    },
                    "metadata": {},
                    "output_type": "display_data"
                },
                {
                    "data": {
                        "text/html": [
                            "Total execution time: 00:00:04.504"
                        ]
                    },
                    "metadata": {},
                    "output_type": "display_data"
                }
            ],
            "source": [
                "CREATE TABLE\n",
                "    dim_product (\n",
                "        stock_code VARCHAR(255) PRIMARY KEY,\n",
                "        description VARCHAR(255),\n",
                "        category VARCHAR(255) DEFAULT 'Uncategorized',\n",
                "        supplier VARCHAR(255) DEFAULT 'Unknown'\n",
                "    );\n",
                "\n",
                "INSERT INTO\n",
                "    dim_product (\n",
                "        stock_code,\n",
                "        description,\n",
                "        category,\n",
                "        supplier\n",
                "    )\n",
                "SELECT\n",
                "    DISTINCT stock_code,\n",
                "    description,\n",
                "    'Uncategorized',\n",
                "    'Unknown'\n",
                "FROM online_retail;"
            ]
        },
        {
            "attachments": {},
            "cell_type": "markdown",
            "metadata": {
                "azdata_cell_guid": "c6ca50dc-9850-4157-a81e-aea6ca329d4d",
                "language": "sql"
            },
            "source": [
                "### dim\\_customer"
            ]
        },
        {
            "cell_type": "code",
            "execution_count": 11,
            "metadata": {
                "azdata_cell_guid": "868717df-cc1f-42d2-9add-7860a2a81579",
                "language": "sql"
            },
            "outputs": [
                {
                    "data": {
                        "text/html": [
                            "Commands completed successfully"
                        ]
                    },
                    "metadata": {},
                    "output_type": "display_data"
                },
                {
                    "data": {
                        "text/html": [
                            "Total execution time: 00:00:03.441"
                        ]
                    },
                    "metadata": {},
                    "output_type": "display_data"
                }
            ],
            "source": [
                "CREATE TABLE\n",
                "    dim_customer (\n",
                "        customer_id INT AUTO_INCREMENT PRIMARY KEY,\n",
                "        customer_name VARCHAR(255),\n",
                "        country VARCHAR(100),\n",
                "        segment VARCHAR(255) DEFAULT 'Unspecified',\n",
                "        loyalty_status VARCHAR(255) DEFAULT 'Not Enrolled'\n",
                "    );\n",
                "\n",
                "INSERT INTO\n",
                "    dim_customer (\n",
                "        customer_name,\n",
                "        country,\n",
                "        segment,\n",
                "        loyalty_status\n",
                "    )\n",
                "SELECT\n",
                "    DISTINCT customer_id,\n",
                "    country,\n",
                "    'Unspecified',\n",
                "    'Not Enrolled'\n",
                "FROM online_retail;"
            ]
        },
        {
            "attachments": {},
            "cell_type": "markdown",
            "metadata": {
                "azdata_cell_guid": "51f1e65e-7b25-4640-8c33-3a11e532875f",
                "language": "sql"
            },
            "source": [
                "### dim\\_date"
            ]
        },
        {
            "cell_type": "code",
            "execution_count": 12,
            "metadata": {
                "azdata_cell_guid": "eaaf245c-dbaf-4d3f-9f5d-697e627df6d3",
                "language": "sql"
            },
            "outputs": [
                {
                    "data": {
                        "text/html": [
                            "Commands completed successfully"
                        ]
                    },
                    "metadata": {},
                    "output_type": "display_data"
                },
                {
                    "data": {
                        "text/html": [
                            "Total execution time: 00:00:04.106"
                        ]
                    },
                    "metadata": {},
                    "output_type": "display_data"
                }
            ],
            "source": [
                "CREATE TABLE\n",
                "    dim_date (\n",
                "        invoice_date DATETIME PRIMARY KEY,\n",
                "        day INT,\n",
                "        month INT,\n",
                "        year INT\n",
                "    );\n",
                "\n",
                "INSERT INTO\n",
                "    dim_date (invoice_date, day, month, year)\n",
                "SELECT\n",
                "    DISTINCT invoice_date,\n",
                "    DAY(invoice_date),\n",
                "    MONTH(invoice_date),\n",
                "    YEAR(invoice_date)\n",
                "FROM online_retail;"
            ]
        },
        {
            "attachments": {},
            "cell_type": "markdown",
            "metadata": {
                "azdata_cell_guid": "a945b009-0262-43a5-8616-98d58241da52",
                "language": "sql"
            },
            "source": [
                "### dim\\_country"
            ]
        },
        {
            "cell_type": "code",
            "execution_count": 13,
            "metadata": {
                "azdata_cell_guid": "4b5bf531-4949-4d6e-8f10-0727c4f06a3e",
                "language": "sql"
            },
            "outputs": [
                {
                    "data": {
                        "text/html": [
                            "Commands completed successfully"
                        ]
                    },
                    "metadata": {},
                    "output_type": "display_data"
                },
                {
                    "data": {
                        "text/html": [
                            "Total execution time: 00:00:03.647"
                        ]
                    },
                    "metadata": {},
                    "output_type": "display_data"
                }
            ],
            "source": [
                "CREATE TABLE\n",
                "    dim_country (\n",
                "        country VARCHAR(100) PRIMARY KEY\n",
                "    );\n",
                "\n",
                "INSERT INTO\n",
                "    dim_country (country)\n",
                "SELECT DISTINCT country\n",
                "FROM online_retail;"
            ]
        },
        {
            "attachments": {},
            "cell_type": "markdown",
            "metadata": {
                "azdata_cell_guid": "e5b89317-dac1-4c34-b902-8594db19b187",
                "language": "sql"
            },
            "source": [
                "## Create and populate fact tables"
            ]
        },
        {
            "attachments": {},
            "cell_type": "markdown",
            "metadata": {
                "azdata_cell_guid": "7a829675-8485-45b9-9d6d-f522e9201f8f",
                "language": "sql"
            },
            "source": [
                "### fact\\_sales"
            ]
        },
        {
            "cell_type": "code",
            "execution_count": 14,
            "metadata": {
                "azdata_cell_guid": "3c697e16-f348-4aee-9151-1f4ba24f0020",
                "language": "sql"
            },
            "outputs": [
                {
                    "data": {
                        "text/html": [
                            "Commands completed successfully"
                        ]
                    },
                    "metadata": {},
                    "output_type": "display_data"
                },
                {
                    "data": {
                        "text/html": [
                            "Total execution time: 00:00:07.170"
                        ]
                    },
                    "metadata": {},
                    "output_type": "display_data"
                }
            ],
            "source": [
                "CREATE TABLE\n",
                "    fact_sales (\n",
                "        fact_sales_id INT AUTO_INCREMENT PRIMARY KEY,\n",
                "        stock_code VARCHAR(255),\n",
                "        customer_id INT,\n",
                "        invoice_date DATETIME,\n",
                "        country VARCHAR(100),\n",
                "        total_price DECIMAL(10, 2),\n",
                "        FOREIGN KEY (stock_code) REFERENCES dim_product(stock_code),\n",
                "        FOREIGN KEY (customer_id) REFERENCES dim_customer(customer_id),\n",
                "        FOREIGN KEY (invoice_date) REFERENCES dim_date(invoice_date),\n",
                "        FOREIGN KEY (country) REFERENCES dim_country(country)\n",
                "    );\n",
                "\n",
                "INSERT INTO\n",
                "    fact_sales (\n",
                "        stock_code,\n",
                "        customer_id,\n",
                "        invoice_date,\n",
                "        country,\n",
                "        total_price\n",
                "    )\n",
                "SELECT\n",
                "    ORT.stock_code,\n",
                "    DC.customer_id,\n",
                "    ORT.invoice_date,\n",
                "    ORT.country, (ORT.quantity * ORT.unit_price) AS total_price\n",
                "FROM online_retail ORT\n",
                "    JOIN dim_product DP ON ORT.stock_code = DP.stock_code\n",
                "    JOIN dim_customer DC ON ORT.customer_id = DC.customer_id\n",
                "    JOIN dim_date DD ON ORT.invoice_date = DD.invoice_date\n",
                "    JOIN dim_country DCO ON ORT.country = DCO.country;"
            ]
        },
        {
            "attachments": {},
            "cell_type": "markdown",
            "metadata": {
                "azdata_cell_guid": "c6d4da1e-a84a-4c00-9563-2318f4b78254",
                "language": "sql"
            },
            "source": [
                "### fact\\_returns"
            ]
        },
        {
            "cell_type": "code",
            "execution_count": 15,
            "metadata": {
                "azdata_cell_guid": "0b1b1da3-ebd5-4be0-9ccd-d9b36fe89c6d",
                "language": "sql"
            },
            "outputs": [
                {
                    "data": {
                        "text/html": [
                            "Commands completed successfully"
                        ]
                    },
                    "metadata": {},
                    "output_type": "display_data"
                },
                {
                    "data": {
                        "text/html": [
                            "Total execution time: 00:00:07.844"
                        ]
                    },
                    "metadata": {},
                    "output_type": "display_data"
                }
            ],
            "source": [
                "CREATE TABLE\n",
                "    fact_returns (\n",
                "        fact_returns_id INT AUTO_INCREMENT PRIMARY KEY,\n",
                "        stock_code VARCHAR(255),\n",
                "        customer_id INT,\n",
                "        return_date DATETIME,\n",
                "        country VARCHAR(100),\n",
                "        return_quantity INT,\n",
                "        return_price DECIMAL(10, 2),\n",
                "        FOREIGN KEY (stock_code) REFERENCES dim_product(stock_code),\n",
                "        FOREIGN KEY (customer_id) REFERENCES dim_customer(customer_id),\n",
                "        FOREIGN KEY (return_date) REFERENCES dim_date(invoice_date),\n",
                "        FOREIGN KEY (country) REFERENCES dim_country(country)\n",
                "    );\n",
                "\n",
                "    INSERT INTO\n",
                "    fact_returns (\n",
                "        stock_code,\n",
                "        customer_id,\n",
                "        return_date,\n",
                "        country,\n",
                "        return_quantity,\n",
                "        return_price\n",
                "    )\n",
                "SELECT\n",
                "    ORT.stock_code,\n",
                "    DC.customer_id,\n",
                "    ORT.invoice_date,\n",
                "    ORT.country,\n",
                "    ORT.quantity, (ORT.quantity * ORT.unit_price) AS return_price\n",
                "FROM online_retail ORT\n",
                "    JOIN dim_product DP ON ORT.stock_code = DP.stock_code\n",
                "    JOIN dim_customer DC ON ORT.customer_id = DC.customer_id\n",
                "    JOIN dim_date DD ON ORT.invoice_date = DD.invoice_date\n",
                "    JOIN dim_country DCO ON ORT.country = DCO.country\n",
                "WHERE ORT.quantity < 0;"
            ]
        },
        {
            "attachments": {},
            "cell_type": "markdown",
            "metadata": {
                "azdata_cell_guid": "aaff7ef2-8c9a-4d5a-8178-dc87697d5dd1"
            },
            "source": [
                "## 3\\. <u>SNOWFLAKE SCHEMA</u>"
            ]
        },
        {
            "attachments": {},
            "cell_type": "markdown",
            "metadata": {
                "azdata_cell_guid": "7a444602-6602-4037-b443-1e377b3b4463"
            },
            "source": [
                "![snowflake](/home/waks/Repos/public/business-intelligence-and_analytics/snowflake.png)"
            ]
        },
        {
            "attachments": {},
            "cell_type": "markdown",
            "metadata": {
                "azdata_cell_guid": "425c181e-2a5c-49cf-99a2-fde2797e43ae"
            },
            "source": [
                "## Preliminaries"
            ]
        },
        {
            "cell_type": "code",
            "execution_count": 22,
            "metadata": {
                "azdata_cell_guid": "5548d6a1-05c2-4d6d-917c-7a8c125e64c4",
                "language": "sql"
            },
            "outputs": [
                {
                    "data": {
                        "text/html": [
                            "Commands completed successfully"
                        ]
                    },
                    "metadata": {},
                    "output_type": "display_data"
                },
                {
                    "data": {
                        "text/html": [
                            "Commands completed successfully"
                        ]
                    },
                    "metadata": {},
                    "output_type": "display_data"
                },
                {
                    "data": {
                        "text/html": [
                            "Commands completed successfully"
                        ]
                    },
                    "metadata": {},
                    "output_type": "display_data"
                },
                {
                    "data": {
                        "text/html": [
                            "Commands completed successfully"
                        ]
                    },
                    "metadata": {},
                    "output_type": "display_data"
                },
                {
                    "data": {
                        "text/html": [
                            "Commands completed successfully"
                        ]
                    },
                    "metadata": {},
                    "output_type": "display_data"
                },
                {
                    "data": {
                        "text/html": [
                            "Commands completed successfully"
                        ]
                    },
                    "metadata": {},
                    "output_type": "display_data"
                },
                {
                    "data": {
                        "text/html": [
                            "Commands completed successfully"
                        ]
                    },
                    "metadata": {},
                    "output_type": "display_data"
                },
                {
                    "data": {
                        "text/html": [
                            "Commands completed successfully"
                        ]
                    },
                    "metadata": {},
                    "output_type": "display_data"
                },
                {
                    "data": {
                        "text/html": [
                            "Commands completed successfully"
                        ]
                    },
                    "metadata": {},
                    "output_type": "display_data"
                },
                {
                    "data": {
                        "text/html": [
                            "Commands completed successfully"
                        ]
                    },
                    "metadata": {},
                    "output_type": "display_data"
                },
                {
                    "data": {
                        "text/html": [
                            "Total execution time: 00:00:23.073"
                        ]
                    },
                    "metadata": {},
                    "output_type": "display_data"
                }
            ],
            "source": [
                "USE online_retail_snowflake;\n",
                "\n",
                "DROP TABLE IF EXISTS fact_sales;\n",
                "\n",
                "DROP TABLE IF EXISTS fact_returns;\n",
                "\n",
                "DROP TABLE IF EXISTS dim_product;\n",
                "\n",
                "DROP TABLE IF EXISTS dim_customer;\n",
                "\n",
                "DROP TABLE IF EXISTS dim_date;\n",
                "\n",
                "DROP TABLE IF EXISTS dim_country;\n",
                "\n",
                "DROP TABLE IF EXISTS dim_category;\n",
                "\n",
                "DROP TABLE IF EXISTS dim_supplier;\n",
                "\n",
                "DROP TABLE IF EXISTS online_retail;"
            ]
        },
        {
            "attachments": {},
            "cell_type": "markdown",
            "metadata": {
                "azdata_cell_guid": "005fb2b0-7160-4a4d-9d15-a228d01f3e40",
                "language": "sql"
            },
            "source": [
                "## Load the Dataset"
            ]
        },
        {
            "cell_type": "code",
            "execution_count": 23,
            "metadata": {
                "azdata_cell_guid": "168eb7f6-340b-4c7a-ae8b-01f735b80683",
                "language": "sql"
            },
            "outputs": [
                {
                    "data": {
                        "text/html": [
                            "Commands completed successfully"
                        ]
                    },
                    "metadata": {},
                    "output_type": "display_data"
                },
                {
                    "data": {
                        "text/html": [
                            "Commands completed successfully"
                        ]
                    },
                    "metadata": {},
                    "output_type": "display_data"
                },
                {
                    "data": {
                        "text/html": [
                            "Total execution time: 00:02:31.466"
                        ]
                    },
                    "metadata": {},
                    "output_type": "display_data"
                }
            ],
            "source": [
                "CREATE TABLE\n",
                "    online_retail (\n",
                "        invoice_no VARCHAR(100),\n",
                "        stock_code VARCHAR(255),\n",
                "        description VARCHAR(255),\n",
                "        quantity INT,\n",
                "        invoice_date DATETIME,\n",
                "        unit_price DECIMAL(8, 2),\n",
                "        customer_id VARCHAR(100),\n",
                "        country VARCHAR(100)\n",
                "    );\n",
                "\n",
                "LOAD DATA\n",
                "    INFILE '/var/lib/mysql-files/online_retail.csv' INTO\n",
                "TABLE\n",
                "    online_retail FIELDS TERMINATED BY ',' ENCLOSED BY '\"' LINES TERMINATED BY '\\n' IGNORE 1 LINES(\n",
                "        invoice_no,\n",
                "        stock_code,\n",
                "        description,\n",
                "        quantity,\n",
                "        @invoice_date,\n",
                "        unit_price,\n",
                "        customer_id,\n",
                "        country\n",
                "    )\n",
                "SET\n",
                "    invoice_date = STR_TO_DATE(\n",
                "        @invoice_date,\n",
                "        '%d/%m/%Y %H:%i'\n",
                "    );"
            ]
        },
        {
            "attachments": {},
            "cell_type": "markdown",
            "metadata": {
                "azdata_cell_guid": "9215e33f-fe76-4e5f-a3b8-6b1356b40dfb",
                "language": "sql"
            },
            "source": [
                "## Create and populate Dimension Tables"
            ]
        },
        {
            "attachments": {},
            "cell_type": "markdown",
            "metadata": {
                "azdata_cell_guid": "f3bb0706-a380-4722-af17-11788c5f107b",
                "language": "sql"
            },
            "source": [
                "### dim\\_product"
            ]
        },
        {
            "cell_type": "code",
            "execution_count": 24,
            "metadata": {
                "azdata_cell_guid": "a4c477f8-f864-4fe7-8376-91e428dd88be",
                "language": "sql"
            },
            "outputs": [
                {
                    "data": {
                        "text/html": [
                            "Commands completed successfully"
                        ]
                    },
                    "metadata": {},
                    "output_type": "display_data"
                },
                {
                    "data": {
                        "text/html": [
                            "Commands completed successfully"
                        ]
                    },
                    "metadata": {},
                    "output_type": "display_data"
                },
                {
                    "data": {
                        "text/html": [
                            "Total execution time: 00:00:10.707"
                        ]
                    },
                    "metadata": {},
                    "output_type": "display_data"
                }
            ],
            "source": [
                "CREATE TABLE\n",
                "    dim_product (\n",
                "        product_id INT AUTO_INCREMENT PRIMARY KEY,\n",
                "        stock_code VARCHAR(255),\n",
                "        description VARCHAR(255),\n",
                "        category VARCHAR(255) DEFAULT 'Uncategorized',\n",
                "        supplier VARCHAR(255) DEFAULT 'Unknown'\n",
                "    );\n",
                "\n",
                "INSERT INTO\n",
                "    dim_product (\n",
                "        stock_code,\n",
                "        description,\n",
                "        category,\n",
                "        supplier\n",
                "    )\n",
                "SELECT\n",
                "    DISTINCT stock_code,\n",
                "    description,\n",
                "    'Uncategorized',\n",
                "    'Unknown'\n",
                "FROM online_retail;"
            ]
        },
        {
            "attachments": {},
            "cell_type": "markdown",
            "metadata": {
                "azdata_cell_guid": "9ec03b2d-a060-4e9a-8264-8a7d8e606beb",
                "language": "sql"
            },
            "source": [
                "### dim\\_customer"
            ]
        },
        {
            "cell_type": "code",
            "execution_count": 25,
            "metadata": {
                "azdata_cell_guid": "abb91a44-789b-4899-9521-ea0533c434b2",
                "language": "sql"
            },
            "outputs": [
                {
                    "data": {
                        "text/html": [
                            "Commands completed successfully"
                        ]
                    },
                    "metadata": {},
                    "output_type": "display_data"
                },
                {
                    "data": {
                        "text/html": [
                            "Commands completed successfully"
                        ]
                    },
                    "metadata": {},
                    "output_type": "display_data"
                },
                {
                    "data": {
                        "text/html": [
                            "Total execution time: 00:00:09.374"
                        ]
                    },
                    "metadata": {},
                    "output_type": "display_data"
                }
            ],
            "source": [
                "CREATE TABLE\n",
                "    dim_customer (\n",
                "        customer_id INT AUTO_INCREMENT PRIMARY KEY,\n",
                "        customer_name VARCHAR(255),\n",
                "        country VARCHAR(100),\n",
                "        segment VARCHAR(255) DEFAULT 'Unspecified',\n",
                "        loyalty_status VARCHAR(255) DEFAULT 'Not Enrolled'\n",
                "    );\n",
                "\n",
                "INSERT INTO\n",
                "    dim_customer (\n",
                "        customer_name,\n",
                "        country,\n",
                "        segment,\n",
                "        loyalty_status\n",
                "    )\n",
                "SELECT\n",
                "    DISTINCT customer_id,\n",
                "    country,\n",
                "    'Unspecified',\n",
                "    'Not Enrolled'\n",
                "FROM online_retail;"
            ]
        },
        {
            "attachments": {},
            "cell_type": "markdown",
            "metadata": {
                "azdata_cell_guid": "6de08a7a-2cee-46e5-a399-aed91f6db6be",
                "language": "sql"
            },
            "source": [
                "### dim\\_date"
            ]
        },
        {
            "cell_type": "code",
            "execution_count": 26,
            "metadata": {
                "azdata_cell_guid": "99c22e0b-b2b9-419a-b28e-a68babb54ec0",
                "language": "sql"
            },
            "outputs": [
                {
                    "data": {
                        "text/html": [
                            "Commands completed successfully"
                        ]
                    },
                    "metadata": {},
                    "output_type": "display_data"
                },
                {
                    "data": {
                        "text/html": [
                            "Commands completed successfully"
                        ]
                    },
                    "metadata": {},
                    "output_type": "display_data"
                },
                {
                    "data": {
                        "text/html": [
                            "Total execution time: 00:00:15.342"
                        ]
                    },
                    "metadata": {},
                    "output_type": "display_data"
                }
            ],
            "source": [
                "CREATE TABLE\n",
                "    dim_date (\n",
                "        date_id INT AUTO_INCREMENT PRIMARY KEY,\n",
                "        invoice_date DATETIME,\n",
                "        day INT,\n",
                "        month INT,\n",
                "        year INT\n",
                "    );\n",
                "\n",
                "INSERT INTO\n",
                "    dim_date (invoice_date, day, month, year)\n",
                "SELECT\n",
                "    DISTINCT invoice_date,\n",
                "    DAY(invoice_date),\n",
                "    MONTH(invoice_date),\n",
                "    YEAR(invoice_date)\n",
                "FROM online_retail;"
            ]
        },
        {
            "attachments": {},
            "cell_type": "markdown",
            "metadata": {
                "azdata_cell_guid": "21c8bd2f-858c-410a-ae1d-87da88fbfadf",
                "language": "sql"
            },
            "source": [
                "### dim\\_country"
            ]
        },
        {
            "cell_type": "code",
            "execution_count": 27,
            "metadata": {
                "azdata_cell_guid": "8285092e-3c25-4116-8987-87a39c5f3298",
                "language": "sql"
            },
            "outputs": [
                {
                    "data": {
                        "text/html": [
                            "Commands completed successfully"
                        ]
                    },
                    "metadata": {},
                    "output_type": "display_data"
                },
                {
                    "data": {
                        "text/html": [
                            "Commands completed successfully"
                        ]
                    },
                    "metadata": {},
                    "output_type": "display_data"
                },
                {
                    "data": {
                        "text/html": [
                            "Total execution time: 00:00:06.116"
                        ]
                    },
                    "metadata": {},
                    "output_type": "display_data"
                }
            ],
            "source": [
                "CREATE TABLE\n",
                "    dim_country (\n",
                "        country_id INT AUTO_INCREMENT PRIMARY KEY,\n",
                "        country VARCHAR(100)\n",
                "    );\n",
                "\n",
                "INSERT INTO\n",
                "    dim_country (country)\n",
                "SELECT DISTINCT country\n",
                "FROM online_retail;\n"
            ]
        },
        {
            "attachments": {},
            "cell_type": "markdown",
            "metadata": {
                "azdata_cell_guid": "10fa49b7-0926-4abc-ae65-11923bec8aee",
                "language": "sql"
            },
            "source": [
                "### dim\\_category"
            ]
        },
        {
            "cell_type": "code",
            "execution_count": 28,
            "metadata": {
                "azdata_cell_guid": "52475ac6-9844-4db2-9ce5-1e49477a067a",
                "language": "sql"
            },
            "outputs": [
                {
                    "data": {
                        "text/html": [
                            "Commands completed successfully"
                        ]
                    },
                    "metadata": {},
                    "output_type": "display_data"
                },
                {
                    "data": {
                        "text/html": [
                            "Commands completed successfully"
                        ]
                    },
                    "metadata": {},
                    "output_type": "display_data"
                },
                {
                    "data": {
                        "text/html": [
                            "Total execution time: 00:00:03.494"
                        ]
                    },
                    "metadata": {},
                    "output_type": "display_data"
                }
            ],
            "source": [
                "CREATE TABLE\n",
                "    dim_category (\n",
                "        category_id INT AUTO_INCREMENT PRIMARY KEY,\n",
                "        category_name VARCHAR(255)\n",
                "    );\n",
                "\n",
                "INSERT INTO\n",
                "    dim_category (category_name)\n",
                "SELECT DISTINCT category\n",
                "FROM dim_product;"
            ]
        },
        {
            "attachments": {},
            "cell_type": "markdown",
            "metadata": {
                "azdata_cell_guid": "df186566-e76a-425c-87d0-9d66723c10c2",
                "language": ""
            },
            "source": [
                "### dim\\_supplier"
            ]
        },
        {
            "cell_type": "code",
            "execution_count": 29,
            "metadata": {
                "azdata_cell_guid": "d8f18185-4c82-4615-bfb3-36d3b14318d1",
                "language": "sql"
            },
            "outputs": [
                {
                    "data": {
                        "text/html": [
                            "Commands completed successfully"
                        ]
                    },
                    "metadata": {},
                    "output_type": "display_data"
                },
                {
                    "data": {
                        "text/html": [
                            "Commands completed successfully"
                        ]
                    },
                    "metadata": {},
                    "output_type": "display_data"
                },
                {
                    "data": {
                        "text/html": [
                            "Total execution time: 00:00:04.308"
                        ]
                    },
                    "metadata": {},
                    "output_type": "display_data"
                }
            ],
            "source": [
                "CREATE TABLE\n",
                "    dim_supplier (\n",
                "        supplier_id INT AUTO_INCREMENT PRIMARY KEY,\n",
                "        supplier_name VARCHAR(255)\n",
                "    );\n",
                "\n",
                "INSERT INTO\n",
                "    dim_supplier (supplier_name)\n",
                "SELECT DISTINCT supplier\n",
                "FROM dim_product;\n"
            ]
        },
        {
            "attachments": {},
            "cell_type": "markdown",
            "metadata": {
                "azdata_cell_guid": "1b1002ba-45a6-4557-a7d0-66405b063577",
                "language": "sql"
            },
            "source": [
                "## Create and populate fact tables"
            ]
        },
        {
            "attachments": {},
            "cell_type": "markdown",
            "metadata": {
                "azdata_cell_guid": "0c55fbe7-21bf-45f6-8322-ee4244885246",
                "language": "sql"
            },
            "source": [
                "### fact\\_sales"
            ]
        },
        {
            "cell_type": "code",
            "execution_count": 30,
            "metadata": {
                "azdata_cell_guid": "fb5d7773-30ec-4897-a787-bbdf36a00f68",
                "language": "sql"
            },
            "outputs": [
                {
                    "data": {
                        "text/html": [
                            "Commands completed successfully"
                        ]
                    },
                    "metadata": {},
                    "output_type": "display_data"
                },
                {
                    "data": {
                        "text/html": [
                            "Commands completed successfully"
                        ]
                    },
                    "metadata": {},
                    "output_type": "display_data"
                },
                {
                    "data": {
                        "text/html": [
                            "Total execution time: 00:00:06.718"
                        ]
                    },
                    "metadata": {},
                    "output_type": "display_data"
                }
            ],
            "source": [
                "CREATE TABLE\n",
                "    fact_sales (\n",
                "        sales_id INT AUTO_INCREMENT PRIMARY KEY,\n",
                "        product_id INT,\n",
                "        customer_id INT,\n",
                "        date_id INT,\n",
                "        country_id INT,\n",
                "        quantity INT,\n",
                "        unit_price DECIMAL(8, 2),\n",
                "        total_price DECIMAL(10, 2),\n",
                "        FOREIGN KEY (product_id) REFERENCES dim_product(product_id),\n",
                "        FOREIGN KEY (customer_id) REFERENCES dim_customer(customer_id),\n",
                "        FOREIGN KEY (date_id) REFERENCES dim_date(date_id),\n",
                "        FOREIGN KEY (country_id) REFERENCES dim_country(country_id)\n",
                "    );\n",
                "\n",
                "INSERT INTO\n",
                "    fact_sales (\n",
                "        product_id,\n",
                "        customer_id,\n",
                "        date_id,\n",
                "        country_id,\n",
                "        quantity,\n",
                "        unit_price,\n",
                "        total_price\n",
                "    )\n",
                "SELECT\n",
                "    DP.product_id,\n",
                "    DC.customer_id,\n",
                "    DD.date_id,\n",
                "    DCO.country_id,\n",
                "    ORT.quantity,\n",
                "    ORT.unit_price, (ORT.quantity * ORT.unit_price) AS total_price\n",
                "FROM online_retail ORT\n",
                "    JOIN dim_product DP ON ORT.stock_code = DP.stock_code\n",
                "    JOIN dim_customer DC ON ORT.customer_id = DC.customer_id\n",
                "    JOIN dim_date DD ON ORT.invoice_date = DD.invoice_date\n",
                "    JOIN dim_country DCO ON ORT.country = DCO.country;"
            ]
        },
        {
            "attachments": {},
            "cell_type": "markdown",
            "metadata": {
                "azdata_cell_guid": "87b8eab2-15ef-409b-81a8-e55f3a47f75f",
                "language": "sql"
            },
            "source": [
                "### fact\\_returns"
            ]
        },
        {
            "cell_type": "code",
            "execution_count": 31,
            "metadata": {
                "azdata_cell_guid": "86767bc6-28b1-4324-845f-d2787209f8f3",
                "language": "sql"
            },
            "outputs": [
                {
                    "data": {
                        "text/html": [
                            "Commands completed successfully"
                        ]
                    },
                    "metadata": {},
                    "output_type": "display_data"
                },
                {
                    "data": {
                        "text/html": [
                            "Commands completed successfully"
                        ]
                    },
                    "metadata": {},
                    "output_type": "display_data"
                },
                {
                    "data": {
                        "text/html": [
                            "Total execution time: 00:00:06.511"
                        ]
                    },
                    "metadata": {},
                    "output_type": "display_data"
                }
            ],
            "source": [
                "# \n",
                "CSC 328 Practical Question 1\n",
                "## \n",
                "Wakhisi Kevin Wasike\n",
                "## \n",
                "P15/1928/2020"
            ]
        }
    ],
    "metadata": {
        "kernelspec": {
            "display_name": "SQL",
            "language": "sql",
            "name": "SQL"
        },
        "language_info": {
            "name": "sql",
            "version": ""
        }
    },
    "nbformat": 4,
    "nbformat_minor": 2
}
